{
 "cells": [
  {
   "cell_type": "code",
   "execution_count": 1,
   "metadata": {},
   "outputs": [
    {
     "name": "stderr",
     "output_type": "stream",
     "text": [
      "Intel(R) Extension for Scikit-learn* enabled (https://github.com/intel/scikit-learn-intelex)\n"
     ]
    }
   ],
   "source": [
    "import numpy as np\n",
    "import pandas as pd\n",
    "import matplotlib.pyplot as plt\n",
    "import seaborn as sns\n",
    "import os\n",
    "import time\n",
    "from tqdm import trange\n",
    "import warnings\n",
    "\n",
    "from sklearn.feature_selection import SelectKBest, mutual_info_classif, SelectFromModel, SequentialFeatureSelector, RFE\n",
    "from sklearn.linear_model import LogisticRegression\n",
    "from sklearn.ensemble import RandomForestClassifier, GradientBoostingClassifier\n",
    "from sklearn.metrics import f1_score\n",
    "from sklearn.model_selection import StratifiedKFold\n",
    "from sklearn.model_selection import cross_val_score\n",
    "from sklearnex import patch_sklearn, unpatch_sklearn\n",
    "\n",
    "n_cpu = os.cpu_count()\n",
    "seed = 24\n",
    "\n",
    "warnings.filterwarnings('ignore')\n",
    "\n",
    "patch_sklearn()"
   ]
  },
  {
   "attachments": {},
   "cell_type": "markdown",
   "metadata": {},
   "source": [
    "# Load Data and Preprocessing"
   ]
  },
  {
   "cell_type": "code",
   "execution_count": 2,
   "metadata": {},
   "outputs": [
    {
     "name": "stdout",
     "output_type": "stream",
     "text": [
      "<class 'pandas.core.frame.DataFrame'>\n",
      "RangeIndex: 125973 entries, 0 to 125972\n",
      "Data columns (total 42 columns):\n",
      " #   Column                       Non-Null Count   Dtype  \n",
      "---  ------                       --------------   -----  \n",
      " 0   duration                     125973 non-null  float64\n",
      " 1   protocol_type                125973 non-null  object \n",
      " 2   service                      125973 non-null  object \n",
      " 3   flag                         125973 non-null  object \n",
      " 4   src_bytes                    125973 non-null  float64\n",
      " 5   dst_bytes                    125973 non-null  float64\n",
      " 6   land                         125973 non-null  int64  \n",
      " 7   wrong_fragment               125973 non-null  float64\n",
      " 8   urgent                       125973 non-null  float64\n",
      " 9   hot                          125973 non-null  float64\n",
      " 10  num_failed_logins            125973 non-null  float64\n",
      " 11  logged_in                    125973 non-null  int64  \n",
      " 12  num_compromised              125973 non-null  float64\n",
      " 13  root_shell                   125973 non-null  float64\n",
      " 14  su_attempted                 125973 non-null  float64\n",
      " 15  num_root                     125973 non-null  float64\n",
      " 16  num_file_creations           125973 non-null  float64\n",
      " 17  num_shells                   125973 non-null  float64\n",
      " 18  num_access_files             125973 non-null  float64\n",
      " 19  num_outbound_cmds            125973 non-null  float64\n",
      " 20  is_host_login                125973 non-null  int64  \n",
      " 21  is_guest_login               125973 non-null  int64  \n",
      " 22  count                        125973 non-null  float64\n",
      " 23  srv_count                    125973 non-null  float64\n",
      " 24  serror_rate                  125973 non-null  float64\n",
      " 25  srv_serror_rate              125973 non-null  float64\n",
      " 26  rerror_rate                  125973 non-null  float64\n",
      " 27  srv_rerror_rate              125973 non-null  float64\n",
      " 28  same_srv_rate                125973 non-null  float64\n",
      " 29  diff_srv_rate                125973 non-null  float64\n",
      " 30  srv_diff_host_rate           125973 non-null  float64\n",
      " 31  dst_host_count               125973 non-null  float64\n",
      " 32  dst_host_srv_count           125973 non-null  float64\n",
      " 33  dst_host_same_srv_rate       125973 non-null  float64\n",
      " 34  dst_host_diff_srv_rate       125973 non-null  float64\n",
      " 35  dst_host_same_src_port_rate  125973 non-null  float64\n",
      " 36  dst_host_srv_diff_host_rate  125973 non-null  float64\n",
      " 37  dst_host_serror_rate         125973 non-null  float64\n",
      " 38  dst_host_srv_serror_rate     125973 non-null  float64\n",
      " 39  dst_host_rerror_rate         125973 non-null  float64\n",
      " 40  dst_host_srv_rerror_rate     125973 non-null  float64\n",
      " 41  class                        125973 non-null  object \n",
      "dtypes: float64(34), int64(4), object(4)\n",
      "memory usage: 40.4+ MB\n",
      "None\n"
     ]
    }
   ],
   "source": [
    "train_raw = pd.read_csv('./Data/train.csv')\n",
    "print(train_raw.info())\n",
    "test_raw = pd.read_csv('./Data/test.csv')"
   ]
  },
  {
   "cell_type": "code",
   "execution_count": 3,
   "metadata": {},
   "outputs": [
    {
     "name": "stdout",
     "output_type": "stream",
     "text": [
      "['num_outbound_cmds']\n"
     ]
    }
   ],
   "source": [
    "col_drop = []\n",
    "for col in train_raw.columns:\n",
    "    if train_raw[col].value_counts().shape[0] == 1:\n",
    "        col_drop.append(col)\n",
    "\n",
    "print(col_drop)"
   ]
  },
  {
   "cell_type": "code",
   "execution_count": 4,
   "metadata": {},
   "outputs": [
    {
     "name": "stdout",
     "output_type": "stream",
     "text": [
      "(125973, 37) (22544, 37)\n"
     ]
    }
   ],
   "source": [
    "train_X = train_raw.drop(['class', 'num_outbound_cmds'], axis=1).select_dtypes(include='number')\n",
    "train_Y = train_raw['class'].map({'normal': 1, 'anomaly': 0})\n",
    "test_X = test_raw.drop(['class', 'num_outbound_cmds'], axis=1).select_dtypes(include='number')\n",
    "test_Y = test_raw['class'].map({'normal': 1, 'anomaly': 0})\n",
    "test_X = (test_X - train_X.min(axis=0)) / (train_X.max(axis=0) - train_X.min(axis=0))\n",
    "test_X = test_X.clip(0, 1)\n",
    "train_X = (train_X - train_X.min(axis=0)) / (train_X.max(axis=0) - train_X.min(axis=0))\n",
    "print(train_X.shape, test_X.shape)"
   ]
  },
  {
   "cell_type": "code",
   "execution_count": 5,
   "metadata": {},
   "outputs": [
    {
     "data": {
      "text/plain": [
       "<Axes: >"
      ]
     },
     "execution_count": 5,
     "metadata": {},
     "output_type": "execute_result"
    },
    {
     "data": {
      "image/png": "[encoded data removed]",
      "text/plain": [
       "<Figure size 640x480 with 2 Axes>"
      ]
     },
     "metadata": {},
     "output_type": "display_data"
    }
   ],
   "source": [
    "sns.heatmap(train_X.corr())"
   ]
  },
  {
   "attachments": {},
   "cell_type": "markdown",
   "metadata": {},
   "source": [
    "# Feature Selection"
   ]
  },
  {
   "attachments": {},
   "cell_type": "markdown",
   "metadata": {},
   "source": [
    "## Correlation-Based"
   ]
  },
  {
   "cell_type": "code",
   "execution_count": 5,
   "metadata": {},
   "outputs": [
    {
     "name": "stdout",
     "output_type": "stream",
     "text": [
      "['duration', 'src_bytes', 'dst_bytes', 'land', 'wrong_fragment', 'urgent', 'hot', 'num_failed_logins', 'logged_in', 'num_compromised', 'root_shell', 'su_attempted', 'num_root', 'num_file_creations', 'num_shells', 'num_access_files', 'is_host_login', 'is_guest_login', 'count', 'srv_count', 'serror_rate', 'srv_serror_rate', 'rerror_rate', 'srv_rerror_rate', 'same_srv_rate', 'diff_srv_rate', 'srv_diff_host_rate', 'dst_host_count', 'dst_host_srv_count', 'dst_host_same_srv_rate', 'dst_host_diff_srv_rate', 'dst_host_same_src_port_rate', 'dst_host_srv_diff_host_rate', 'dst_host_serror_rate', 'dst_host_srv_serror_rate', 'dst_host_rerror_rate', 'dst_host_srv_rerror_rate']\n",
      "['duration']\n",
      "['src_bytes']\n",
      "['dst_bytes']\n",
      "['land']\n",
      "['wrong_fragment']\n",
      "['urgent']\n",
      "['hot', 'is_guest_login']\n",
      "['num_failed_logins']\n",
      "['logged_in']\n",
      "['num_compromised', 'num_root']\n",
      "['root_shell']\n",
      "['su_attempted']\n",
      "['num_file_creations']\n",
      "['num_shells']\n",
      "['num_access_files']\n",
      "['is_host_login']\n",
      "['count']\n",
      "['srv_count']\n",
      "['serror_rate', 'srv_serror_rate', 'dst_host_serror_rate', 'dst_host_srv_serror_rate']\n",
      "['rerror_rate', 'srv_rerror_rate', 'dst_host_rerror_rate', 'dst_host_srv_rerror_rate']\n",
      "['same_srv_rate']\n",
      "['diff_srv_rate']\n",
      "['srv_diff_host_rate']\n",
      "['dst_host_count']\n",
      "['dst_host_srv_count', 'dst_host_same_srv_rate']\n",
      "['dst_host_diff_srv_rate']\n",
      "['dst_host_same_src_port_rate']\n",
      "['dst_host_srv_diff_host_rate']\n",
      "time cost: 6.066781520843506\n",
      "selected features: ['duration', 'src_bytes', 'dst_bytes', 'land', 'wrong_fragment', 'urgent', 'hot', 'num_failed_logins', 'logged_in', 'num_compromised', 'root_shell', 'su_attempted', 'num_file_creations', 'num_shells', 'num_access_files', 'is_host_login', 'count', 'srv_count', 'dst_host_srv_serror_rate', 'dst_host_srv_rerror_rate', 'same_srv_rate', 'diff_srv_rate', 'srv_diff_host_rate', 'dst_host_count', 'dst_host_same_srv_rate', 'dst_host_diff_srv_rate', 'dst_host_same_src_port_rate', 'dst_host_srv_diff_host_rate']\n",
      "(125973, 28) (22544, 28)\n"
     ]
    }
   ],
   "source": [
    "correlation_matrix = train_X.corr()\n",
    "model = RandomForestClassifier(n_estimators=200, n_jobs=n_cpu-1, random_state=seed)\n",
    "selected_features = []\n",
    "\n",
    "original_features = train_X.columns.tolist()\n",
    "print(original_features)\n",
    "start_time = time.time()\n",
    "while len(original_features) > 0:\n",
    "    indices = correlation_matrix[correlation_matrix.loc[:, original_features[0]] >= 0.8].index.tolist()\n",
    "    print(indices)\n",
    "    if len(indices) == 1:\n",
    "        selected_features.append(indices[0])\n",
    "        original_features.remove(indices[0])\n",
    "        continue\n",
    "\n",
    "    selector = SelectFromModel(model, threshold=-np.inf, max_features=1)\n",
    "    selector.fit(train_X[indices], train_Y)\n",
    "    selected_features.append([b for a, b in zip(selector.get_support(), indices) if a][0])\n",
    "    original_features = [col for col in original_features if col not in indices]\n",
    "\n",
    "print(f'time cost: {time.time()-start_time}')\n",
    "print(f'selected features: {selected_features}')\n",
    "\n",
    "train_X = train_X[selected_features]\n",
    "test_X = test_X[selected_features]\n",
    "print(train_X.shape, test_X.shape)"
   ]
  },
  {
   "attachments": {},
   "cell_type": "markdown",
   "metadata": {},
   "source": [
    "# Greedy"
   ]
  },
  {
   "cell_type": "code",
   "execution_count": 11,
   "metadata": {},
   "outputs": [
    {
     "name": "stderr",
     "output_type": "stream",
     "text": [
      "100%|██████████| 27/27 [11:59:52<00:00, 1599.72s/it]   "
     ]
    },
    {
     "name": "stdout",
     "output_type": "stream",
     "text": [
      "greedy ordered feature: ['same_srv_rate', 'dst_host_diff_srv_rate', 'dst_host_same_srv_rate', 'src_bytes', 'dst_bytes', 'dst_host_srv_serror_rate', 'count', 'diff_srv_rate', 'logged_in', 'dst_host_srv_diff_host_rate', 'dst_host_count', 'dst_host_same_src_port_rate', 'srv_diff_host_rate', 'dst_host_srv_rerror_rate', 'wrong_fragment', 'hot', 'num_compromised', 'duration', 'su_attempted', 'root_shell', 'land', 'is_host_login', 'srv_count', 'num_access_files', 'num_shells', 'num_file_creations', 'num_failed_logins', 'urgent']\n",
      "time cost: 43210.163608789444\n"
     ]
    },
    {
     "name": "stderr",
     "output_type": "stream",
     "text": [
      "\n"
     ]
    }
   ],
   "source": [
    "start_time = time.time()\n",
    "\n",
    "model = RandomForestClassifier(n_estimators=200, n_jobs=n_cpu-1, random_state=seed)\n",
    "\n",
    "greedy_features = []\n",
    "kf = StratifiedKFold(shuffle=True, random_state=seed)\n",
    "\n",
    "selector = SelectKBest(mutual_info_classif, k='all')\n",
    "selector.fit(train_X, train_Y)\n",
    "sorted_index = np.argsort(-selector.scores_)\n",
    "mi_features = train_X.columns[sorted_index].tolist()\n",
    "\n",
    "for i in trange(train_X.shape[1]-1):\n",
    "    candidates = []\n",
    "    scores = []\n",
    "\n",
    "    f = mi_features[0]\n",
    "    candidates.append(f)\n",
    "    cv = cross_val_score(model, train_X[greedy_features+[f]], train_Y, scoring='f1', cv=kf)\n",
    "    scores.append(cv.mean())\n",
    "\n",
    "    train_X2 = train_X.drop(greedy_features, axis=1)\n",
    "\n",
    "    selector = SequentialFeatureSelector(model, n_features_to_select=1, direction='backward', scoring='f1', cv=kf)\n",
    "    selector.fit(train_X2, train_Y)\n",
    "    f = train_X2.columns[selector.get_support()][0]\n",
    "    candidates.append(f)\n",
    "    cv = cross_val_score(model, train_X[greedy_features+[f]], train_Y, scoring='f1', cv=kf)\n",
    "    scores.append(cv.mean())\n",
    "\n",
    "    selector = SelectFromModel(model, threshold=-np.inf, max_features=1)\n",
    "    selector.fit(train_X2, train_Y)\n",
    "    f = train_X2.columns[selector.get_support()][0]\n",
    "    candidates.append(f)\n",
    "    cv = cross_val_score(model, train_X[greedy_features+[f]], train_Y, scoring='f1', cv=kf)\n",
    "    scores.append(cv.mean())\n",
    "\n",
    "    best_feature_index = np.argmax(scores)\n",
    "    best_feature = candidates[best_feature_index]\n",
    "    greedy_features.append(best_feature)\n",
    "    mi_features.remove(best_feature)\n",
    "\n",
    "greedy_features.append(train_X.columns.drop(greedy_features)[0])\n",
    "print(f'greedy ordered feature: {greedy_features}')\n",
    "print(f'time cost: {time.time()-start_time}')"
   ]
  },
  {
   "attachments": {},
   "cell_type": "markdown",
   "metadata": {},
   "source": [
    "# Cross Validation / Test"
   ]
  },
  {
   "cell_type": "code",
   "execution_count": 16,
   "metadata": {},
   "outputs": [],
   "source": [
    "def get_scores(model):\n",
    "    cv_score = []\n",
    "    test_score = []\n",
    "\n",
    "    for i in trange(train_X.shape[1]):\n",
    "        train_X2 = train_X[greedy_features[:i+1]].copy()\n",
    "        cv = cross_val_score(model, train_X2, train_Y, scoring='f1', cv=kf)\n",
    "        cv_score.append(cv.mean())\n",
    "\n",
    "        model.fit(train_X2, train_Y)\n",
    "        predict = model.predict(test_X[greedy_features[:i+1]])\n",
    "        test_score.append(f1_score(test_Y, predict))\n",
    "\n",
    "    print(f'time cost: {time.time()-start_time}')\n",
    "\n",
    "    plt.plot(range(train_X.shape[1]), cv_score, color='blue', linestyle='-', label='CV Score')\n",
    "    plt.plot(range(train_X.shape[1]), test_score, color='red', linestyle='-', label='Test Score')\n",
    "\n",
    "    return cv_score, test_score"
   ]
  },
  {
   "cell_type": "code",
   "execution_count": 18,
   "metadata": {},
   "outputs": [
    {
     "name": "stderr",
     "output_type": "stream",
     "text": [
      "100%|██████████| 28/28 [01:13<00:00,  2.62s/it]"
     ]
    },
    {
     "name": "stdout",
     "output_type": "stream",
     "text": [
      "time cost: 339703.23691368103\n"
     ]
    },
    {
     "name": "stderr",
     "output_type": "stream",
     "text": [
      "\n"
     ]
    },
    {
     "data": {
      "image/png": "[encoded data removed]",
      "text/plain": [
       "<Figure size 640x480 with 1 Axes>"
      ]
     },
     "metadata": {},
     "output_type": "display_data"
    }
   ],
   "source": [
    "model = LogisticRegression(C=100, solver='liblinear', random_state=seed, n_jobs=n_cpu-1)\n",
    "cv_score_LR, test_score_LR = get_scores(model)"
   ]
  },
  {
   "cell_type": "code",
   "execution_count": 19,
   "metadata": {},
   "outputs": [
    {
     "name": "stderr",
     "output_type": "stream",
     "text": [
      "100%|██████████| 28/28 [41:16<00:00, 88.44s/it] "
     ]
    },
    {
     "name": "stdout",
     "output_type": "stream",
     "text": [
      "time cost: 342278.98937630653\n"
     ]
    },
    {
     "name": "stderr",
     "output_type": "stream",
     "text": [
      "\n"
     ]
    },
    {
     "data": {
      "image/png": "[encoded data removed]",
      "text/plain": [
       "<Figure size 640x480 with 1 Axes>"
      ]
     },
     "metadata": {},
     "output_type": "display_data"
    }
   ],
   "source": [
    "model = GradientBoostingClassifier(n_estimators=200, random_state=seed)\n",
    "cv_score_GB, test_score_GB = get_scores(model)"
   ]
  },
  {
   "cell_type": "code",
   "execution_count": 8,
   "metadata": {},
   "outputs": [],
   "source": [
    "import tensorflow as tf\n",
    "import tensorflow.keras as keras"
   ]
  },
  {
   "cell_type": "code",
   "execution_count": 9,
   "metadata": {},
   "outputs": [],
   "source": [
    "def create_model(input_shape):\n",
    "    model = keras.Sequential()\n",
    "    model.add(keras.layers.Dense(50, activation='relu', input_shape=(input_shape,)))\n",
    "    model.add(keras.layers.Dropout(0.2))\n",
    "    model.add(keras.layers.Dense(50, activation='relu'))\n",
    "    model.add(keras.layers.Dropout(0.2))\n",
    "    model.add(keras.layers.Dense(50, activation='relu'))\n",
    "    model.add(keras.layers.Dropout(0.2))\n",
    "    model.add(keras.layers.Dense(50, activation='relu'))\n",
    "    model.add(keras.layers.Dropout(0.2))\n",
    "    model.add(keras.layers.Dense(1, activation='sigmoid'))\n",
    "    model.compile(optimizer=keras.optimizers.Adam(), loss=keras.losses.binary_crossentropy)\n",
    "    return model"
   ]
  },
  {
   "cell_type": "code",
   "execution_count": 11,
   "metadata": {},
   "outputs": [
    {
     "name": "stderr",
     "output_type": "stream",
     "text": [
      "  0%|          | 0/28 [00:00<?, ?it/s]"
     ]
    },
    {
     "name": "stdout",
     "output_type": "stream",
     "text": [
      "705/705 [==============================] - 1s 1ms/step\n",
      "705/705 [==============================] - 1s 1ms/step\n",
      "705/705 [==============================] - 1s 1ms/step\n",
      "705/705 [==============================] - 1s 1ms/step\n",
      "705/705 [==============================] - 1s 1ms/step\n",
      "705/705 [==============================] - 1s 1ms/step\n"
     ]
    },
    {
     "name": "stderr",
     "output_type": "stream",
     "text": [
      "  4%|▎         | 1/28 [07:15<3:15:56, 435.44s/it]"
     ]
    },
    {
     "name": "stdout",
     "output_type": "stream",
     "text": [
      "705/705 [==============================] - 1s 1ms/step\n",
      "705/705 [==============================] - 1s 2ms/step\n",
      "705/705 [==============================] - 1s 1ms/step\n",
      "705/705 [==============================] - 1s 1ms/step\n",
      "705/705 [==============================] - 1s 1ms/step\n",
      "705/705 [==============================] - 1s 1ms/step\n"
     ]
    },
    {
     "name": "stderr",
     "output_type": "stream",
     "text": [
      "  7%|▋         | 2/28 [14:32<3:09:06, 436.41s/it]"
     ]
    },
    {
     "name": "stdout",
     "output_type": "stream",
     "text": [
      "705/705 [==============================] - 1s 1ms/step\n",
      "705/705 [==============================] - 1s 1ms/step\n",
      "705/705 [==============================] - 1s 1ms/step\n",
      "705/705 [==============================] - 1s 1ms/step\n",
      "705/705 [==============================] - 1s 1ms/step\n",
      "705/705 [==============================] - 1s 1ms/step\n"
     ]
    },
    {
     "name": "stderr",
     "output_type": "stream",
     "text": [
      " 11%|█         | 3/28 [21:49<3:01:55, 436.63s/it]"
     ]
    },
    {
     "name": "stdout",
     "output_type": "stream",
     "text": [
      "705/705 [==============================] - 1s 1ms/step\n",
      "705/705 [==============================] - 1s 1ms/step\n",
      "705/705 [==============================] - 1s 2ms/step\n",
      "705/705 [==============================] - 1s 1ms/step\n",
      "705/705 [==============================] - 1s 1ms/step\n",
      "705/705 [==============================] - 1s 1ms/step\n"
     ]
    },
    {
     "name": "stderr",
     "output_type": "stream",
     "text": [
      " 14%|█▍        | 4/28 [29:05<2:54:37, 436.57s/it]"
     ]
    },
    {
     "name": "stdout",
     "output_type": "stream",
     "text": [
      "705/705 [==============================] - 1s 1ms/step\n",
      "705/705 [==============================] - 1s 1ms/step\n",
      "705/705 [==============================] - 1s 1ms/step\n",
      "705/705 [==============================] - 1s 1ms/step\n",
      "705/705 [==============================] - 1s 1ms/step\n",
      "705/705 [==============================] - 1s 1ms/step\n"
     ]
    },
    {
     "name": "stderr",
     "output_type": "stream",
     "text": [
      " 18%|█▊        | 5/28 [36:18<2:46:52, 435.31s/it]"
     ]
    },
    {
     "name": "stdout",
     "output_type": "stream",
     "text": [
      "705/705 [==============================] - 1s 1ms/step\n",
      "705/705 [==============================] - 1s 1ms/step\n",
      "705/705 [==============================] - 1s 1ms/step\n",
      "705/705 [==============================] - 1s 1ms/step\n",
      "705/705 [==============================] - 1s 1ms/step\n",
      "705/705 [==============================] - 1s 1ms/step\n"
     ]
    },
    {
     "name": "stderr",
     "output_type": "stream",
     "text": [
      " 21%|██▏       | 6/28 [43:31<2:39:14, 434.30s/it]"
     ]
    },
    {
     "name": "stdout",
     "output_type": "stream",
     "text": [
      "705/705 [==============================] - 1s 1ms/step\n",
      "705/705 [==============================] - 1s 1ms/step\n",
      "705/705 [==============================] - 1s 1ms/step\n",
      "705/705 [==============================] - 1s 1ms/step\n",
      "705/705 [==============================] - 1s 1ms/step\n",
      "705/705 [==============================] - 1s 1ms/step\n"
     ]
    },
    {
     "name": "stderr",
     "output_type": "stream",
     "text": [
      " 25%|██▌       | 7/28 [50:49<2:32:26, 435.53s/it]"
     ]
    },
    {
     "name": "stdout",
     "output_type": "stream",
     "text": [
      "705/705 [==============================] - 1s 1ms/step\n",
      "705/705 [==============================] - 1s 1ms/step\n",
      "705/705 [==============================] - 1s 1ms/step\n",
      "705/705 [==============================] - 1s 1ms/step\n",
      "705/705 [==============================] - 1s 1ms/step\n",
      "705/705 [==============================] - 1s 1ms/step\n"
     ]
    },
    {
     "name": "stderr",
     "output_type": "stream",
     "text": [
      " 29%|██▊       | 8/28 [58:06<2:25:19, 435.96s/it]"
     ]
    },
    {
     "name": "stdout",
     "output_type": "stream",
     "text": [
      "705/705 [==============================] - 1s 1ms/step\n",
      "705/705 [==============================] - 1s 1ms/step\n",
      "705/705 [==============================] - 1s 1ms/step\n",
      "705/705 [==============================] - 1s 1ms/step\n",
      "705/705 [==============================] - 1s 1ms/step\n",
      "705/705 [==============================] - 1s 1ms/step\n"
     ]
    },
    {
     "name": "stderr",
     "output_type": "stream",
     "text": [
      " 32%|███▏      | 9/28 [1:05:13<2:17:09, 433.12s/it]"
     ]
    },
    {
     "name": "stdout",
     "output_type": "stream",
     "text": [
      "705/705 [==============================] - 1s 2ms/step\n",
      "705/705 [==============================] - 1s 1ms/step\n",
      "705/705 [==============================] - 1s 1ms/step\n",
      "705/705 [==============================] - 1s 1ms/step\n",
      "705/705 [==============================] - 1s 1ms/step\n",
      "705/705 [==============================] - 1s 1ms/step\n"
     ]
    },
    {
     "name": "stderr",
     "output_type": "stream",
     "text": [
      " 36%|███▌      | 10/28 [1:12:31<2:10:23, 434.66s/it]"
     ]
    },
    {
     "name": "stdout",
     "output_type": "stream",
     "text": [
      "705/705 [==============================] - 1s 1ms/step\n",
      "705/705 [==============================] - 1s 1ms/step\n",
      "705/705 [==============================] - 1s 1ms/step\n",
      "705/705 [==============================] - 1s 1ms/step\n",
      "705/705 [==============================] - 1s 1ms/step\n",
      "705/705 [==============================] - 1s 1ms/step\n"
     ]
    },
    {
     "name": "stderr",
     "output_type": "stream",
     "text": [
      " 39%|███▉      | 11/28 [1:19:31<2:01:55, 430.31s/it]"
     ]
    },
    {
     "name": "stdout",
     "output_type": "stream",
     "text": [
      "705/705 [==============================] - 1s 1ms/step\n",
      "705/705 [==============================] - 1s 1ms/step\n",
      "705/705 [==============================] - 1s 1ms/step\n",
      "705/705 [==============================] - 1s 2ms/step\n",
      "705/705 [==============================] - 1s 1ms/step\n",
      "705/705 [==============================] - 1s 1ms/step\n"
     ]
    },
    {
     "name": "stderr",
     "output_type": "stream",
     "text": [
      " 43%|████▎     | 12/28 [1:26:32<1:54:00, 427.53s/it]"
     ]
    },
    {
     "name": "stdout",
     "output_type": "stream",
     "text": [
      "705/705 [==============================] - 1s 1ms/step\n",
      "705/705 [==============================] - 1s 1ms/step\n",
      "705/705 [==============================] - 1s 1ms/step\n",
      "705/705 [==============================] - 1s 1ms/step\n",
      "705/705 [==============================] - 1s 1ms/step\n",
      "705/705 [==============================] - 1s 1ms/step\n"
     ]
    },
    {
     "name": "stderr",
     "output_type": "stream",
     "text": [
      " 46%|████▋     | 13/28 [1:33:34<1:46:24, 425.61s/it]"
     ]
    },
    {
     "name": "stdout",
     "output_type": "stream",
     "text": [
      "705/705 [==============================] - 1s 1ms/step\n",
      "705/705 [==============================] - 1s 1ms/step\n",
      "705/705 [==============================] - 1s 1ms/step\n",
      "705/705 [==============================] - 1s 1ms/step\n",
      "705/705 [==============================] - 1s 1ms/step\n",
      "705/705 [==============================] - 1s 1ms/step\n"
     ]
    },
    {
     "name": "stderr",
     "output_type": "stream",
     "text": [
      " 50%|█████     | 14/28 [1:40:35<1:38:59, 424.28s/it]"
     ]
    },
    {
     "name": "stdout",
     "output_type": "stream",
     "text": [
      "705/705 [==============================] - 1s 1ms/step\n",
      "705/705 [==============================] - 1s 1ms/step\n",
      "705/705 [==============================] - 1s 1ms/step\n",
      "705/705 [==============================] - 1s 1ms/step\n",
      "705/705 [==============================] - 1s 1ms/step\n",
      "705/705 [==============================] - 1s 1ms/step\n"
     ]
    },
    {
     "name": "stderr",
     "output_type": "stream",
     "text": [
      " 54%|█████▎    | 15/28 [1:47:31<1:31:25, 421.94s/it]"
     ]
    },
    {
     "name": "stdout",
     "output_type": "stream",
     "text": [
      "705/705 [==============================] - 1s 1ms/step\n",
      "705/705 [==============================] - 1s 1ms/step\n",
      "705/705 [==============================] - 1s 1ms/step\n",
      "705/705 [==============================] - 1s 1ms/step\n",
      "705/705 [==============================] - 1s 1ms/step\n",
      "705/705 [==============================] - 1s 1ms/step\n"
     ]
    },
    {
     "name": "stderr",
     "output_type": "stream",
     "text": [
      " 57%|█████▋    | 16/28 [1:54:32<1:24:19, 421.59s/it]"
     ]
    },
    {
     "name": "stdout",
     "output_type": "stream",
     "text": [
      "705/705 [==============================] - 1s 1ms/step\n",
      "705/705 [==============================] - 1s 1ms/step\n",
      "705/705 [==============================] - 1s 1ms/step\n",
      "705/705 [==============================] - 1s 1ms/step\n",
      "705/705 [==============================] - 1s 1ms/step\n",
      "705/705 [==============================] - 1s 1ms/step\n"
     ]
    },
    {
     "name": "stderr",
     "output_type": "stream",
     "text": [
      " 61%|██████    | 17/28 [2:01:31<1:17:09, 420.85s/it]"
     ]
    },
    {
     "name": "stdout",
     "output_type": "stream",
     "text": [
      "705/705 [==============================] - 1s 1ms/step\n",
      "705/705 [==============================] - 1s 1ms/step\n",
      "705/705 [==============================] - 1s 1ms/step\n",
      "705/705 [==============================] - 1s 1ms/step\n",
      "705/705 [==============================] - 1s 1ms/step\n",
      "705/705 [==============================] - 1s 1ms/step\n"
     ]
    },
    {
     "name": "stderr",
     "output_type": "stream",
     "text": [
      " 64%|██████▍   | 18/28 [2:08:32<1:10:07, 420.79s/it]"
     ]
    },
    {
     "name": "stdout",
     "output_type": "stream",
     "text": [
      "705/705 [==============================] - 1s 1ms/step\n",
      "705/705 [==============================] - 1s 1ms/step\n",
      "705/705 [==============================] - 1s 1ms/step\n",
      "705/705 [==============================] - 1s 1ms/step\n",
      "705/705 [==============================] - 1s 1ms/step\n",
      "705/705 [==============================] - 1s 1ms/step\n"
     ]
    },
    {
     "name": "stderr",
     "output_type": "stream",
     "text": [
      " 68%|██████▊   | 19/28 [2:15:36<1:03:15, 421.76s/it]"
     ]
    },
    {
     "name": "stdout",
     "output_type": "stream",
     "text": [
      "705/705 [==============================] - 1s 1ms/step\n",
      "705/705 [==============================] - 1s 1ms/step\n",
      "705/705 [==============================] - 1s 2ms/step\n",
      "705/705 [==============================] - 1s 1ms/step\n",
      "705/705 [==============================] - 1s 1ms/step\n",
      "705/705 [==============================] - 1s 1ms/step\n"
     ]
    },
    {
     "name": "stderr",
     "output_type": "stream",
     "text": [
      " 71%|███████▏  | 20/28 [2:22:36<56:10, 421.36s/it]  "
     ]
    },
    {
     "name": "stdout",
     "output_type": "stream",
     "text": [
      "705/705 [==============================] - 1s 1ms/step\n",
      "705/705 [==============================] - 1s 1ms/step\n",
      "705/705 [==============================] - 1s 1ms/step\n",
      "705/705 [==============================] - 1s 1ms/step\n",
      "705/705 [==============================] - 1s 1ms/step\n",
      "705/705 [==============================] - 1s 1ms/step\n"
     ]
    },
    {
     "name": "stderr",
     "output_type": "stream",
     "text": [
      " 75%|███████▌  | 21/28 [2:29:48<49:31, 424.57s/it]"
     ]
    },
    {
     "name": "stdout",
     "output_type": "stream",
     "text": [
      "705/705 [==============================] - 1s 1ms/step\n",
      "705/705 [==============================] - 1s 1ms/step\n",
      "705/705 [==============================] - 1s 1ms/step\n",
      "705/705 [==============================] - 1s 1ms/step\n",
      "705/705 [==============================] - 1s 1ms/step\n",
      "705/705 [==============================] - 1s 1ms/step\n"
     ]
    },
    {
     "name": "stderr",
     "output_type": "stream",
     "text": [
      " 79%|███████▊  | 22/28 [2:37:01<42:42, 427.05s/it]"
     ]
    },
    {
     "name": "stdout",
     "output_type": "stream",
     "text": [
      "705/705 [==============================] - 1s 1ms/step\n",
      "705/705 [==============================] - 1s 1ms/step\n",
      "705/705 [==============================] - 1s 1ms/step\n",
      "705/705 [==============================] - 1s 1ms/step\n",
      "705/705 [==============================] - 1s 1ms/step\n",
      "705/705 [==============================] - 1s 1ms/step\n"
     ]
    },
    {
     "name": "stderr",
     "output_type": "stream",
     "text": [
      " 82%|████████▏ | 23/28 [2:44:14<35:43, 428.77s/it]"
     ]
    },
    {
     "name": "stdout",
     "output_type": "stream",
     "text": [
      "705/705 [==============================] - 1s 1ms/step\n",
      "705/705 [==============================] - 1s 1ms/step\n",
      "705/705 [==============================] - 1s 1ms/step\n",
      "705/705 [==============================] - 1s 1ms/step\n",
      "705/705 [==============================] - 1s 1ms/step\n",
      "705/705 [==============================] - 1s 1ms/step\n"
     ]
    },
    {
     "name": "stderr",
     "output_type": "stream",
     "text": [
      " 86%|████████▌ | 24/28 [2:51:27<28:40, 430.09s/it]"
     ]
    },
    {
     "name": "stdout",
     "output_type": "stream",
     "text": [
      "705/705 [==============================] - 1s 1ms/step\n",
      "705/705 [==============================] - 1s 2ms/step\n",
      "705/705 [==============================] - 1s 1ms/step\n",
      "705/705 [==============================] - 1s 1ms/step\n",
      "705/705 [==============================] - 1s 1ms/step\n",
      "705/705 [==============================] - 1s 1ms/step\n"
     ]
    },
    {
     "name": "stderr",
     "output_type": "stream",
     "text": [
      " 89%|████████▉ | 25/28 [2:58:40<21:32, 430.96s/it]"
     ]
    },
    {
     "name": "stdout",
     "output_type": "stream",
     "text": [
      "705/705 [==============================] - 1s 1ms/step\n",
      "705/705 [==============================] - 1s 1ms/step\n",
      "705/705 [==============================] - 1s 1ms/step\n",
      "705/705 [==============================] - 1s 1ms/step\n",
      "705/705 [==============================] - 1s 1ms/step\n",
      "705/705 [==============================] - 1s 1ms/step\n"
     ]
    },
    {
     "name": "stderr",
     "output_type": "stream",
     "text": [
      " 93%|█████████▎| 26/28 [3:05:54<14:23, 431.97s/it]"
     ]
    },
    {
     "name": "stdout",
     "output_type": "stream",
     "text": [
      "705/705 [==============================] - 1s 1ms/step\n",
      "705/705 [==============================] - 1s 1ms/step\n",
      "705/705 [==============================] - 1s 1ms/step\n",
      "705/705 [==============================] - 1s 1ms/step\n",
      "705/705 [==============================] - 1s 1ms/step\n",
      "705/705 [==============================] - 1s 1ms/step\n"
     ]
    },
    {
     "name": "stderr",
     "output_type": "stream",
     "text": [
      " 96%|█████████▋| 27/28 [3:13:10<07:12, 432.98s/it]"
     ]
    },
    {
     "name": "stdout",
     "output_type": "stream",
     "text": [
      "705/705 [==============================] - 1s 1ms/step\n",
      "705/705 [==============================] - 1s 1ms/step\n",
      "705/705 [==============================] - 1s 1ms/step\n",
      "705/705 [==============================] - 1s 1ms/step\n",
      "705/705 [==============================] - 1s 2ms/step\n",
      "705/705 [==============================] - 1s 1ms/step\n"
     ]
    },
    {
     "name": "stderr",
     "output_type": "stream",
     "text": [
      "100%|██████████| 28/28 [3:20:21<00:00, 429.35s/it]\n"
     ]
    },
    {
     "data": {
      "text/plain": [
       "[<matplotlib.lines.Line2D at 0x1c8241ec280>]"
      ]
     },
     "execution_count": 11,
     "metadata": {},
     "output_type": "execute_result"
    },
    {
     "data": {
      "image/png": "[encoded data removed]",
      "text/plain": [
       "<Figure size 640x480 with 1 Axes>"
      ]
     },
     "metadata": {},
     "output_type": "display_data"
    }
   ],
   "source": [
    "tf.random.set_seed(seed)\n",
    "\n",
    "kf = StratifiedKFold(shuffle=True, random_state=seed)\n",
    "\n",
    "cv_score_NN = []\n",
    "test_score_NN = []\n",
    "\n",
    "for k in trange(train_X.shape[1]):\n",
    "    model = create_model(k+1)\n",
    "\n",
    "    cv_score = []\n",
    "    train_X2 = train_X[greedy_features[:k+1]].copy()\n",
    "    for train_index, test_index in kf.split(train_X2, train_Y):\n",
    "        x_train_fold, x_test_fold = train_X2.iloc[train_index, :], train_X2.iloc[test_index, :]\n",
    "        y_train_fold, y_test_fold = train_Y.iloc[train_index], train_Y.iloc[test_index]\n",
    "\n",
    "        model.fit(x_train_fold.values, y_train_fold.values,\n",
    "                  epochs=15, batch_size=100,\n",
    "                  use_multiprocessing=True, verbose=0)\n",
    "        \n",
    "        predict = model.predict(test_X[greedy_features[:k+1]], use_multiprocessing=True)\n",
    "        predict = np.where(predict < 0.5, 0, 1)\n",
    "        cv_score.append(f1_score(test_Y, predict))\n",
    "    cv_score_NN.append(np.mean(cv_score))\n",
    "\n",
    "    model.fit(train_X2.values, train_Y.values,\n",
    "            epochs=15, batch_size=100,\n",
    "            use_multiprocessing=True, verbose=0)\n",
    "    predict = model.predict(test_X[greedy_features[:k+1]], use_multiprocessing=True)\n",
    "    predict = np.where(predict < 0.5, 0, 1)\n",
    "    test_score_NN.append(f1_score(test_Y, predict))\n",
    "\n",
    "plt.plot(range(train_X.shape[1]), cv_score_NN, color='blue', linestyle='-', label='CV Score')\n",
    "plt.plot(range(train_X.shape[1]), test_score_NN, color='red', linestyle='-', label='Test Score')"
   ]
  },
  {
   "cell_type": "code",
   "execution_count": 13,
   "metadata": {},
   "outputs": [],
   "source": [
    "results = pd.DataFrame({'features': greedy_features,\n",
    "                        'cv_score_LR': cv_score_LR,\n",
    "                        'test_score_LR': test_score_LR,\n",
    "                        'cv_score_GB': cv_score_GB,\n",
    "                        'test_score_GB': test_score_GB,\n",
    "                        'cv_score_NN': cv_score_NN,\n",
    "                        'test_score_NN': test_score_NN})\n",
    "results.to_csv('./Experiments/greedy.csv', index=False)"
   ]
  }
 ],
 "metadata": {
  "kernelspec": {
   "display_name": "ml",
   "language": "python",
   "name": "python3"
  },
  "language_info": {
   "codemirror_mode": {
    "name": "ipython",
    "version": 3
   },
   "file_extension": ".py",
   "mimetype": "text/x-python",
   "name": "python",
   "nbconvert_exporter": "python",
   "pygments_lexer": "ipython3",
   "version": "3.10.11"
  },
  "orig_nbformat": 4
 },
 "nbformat": 4,
 "nbformat_minor": 2
}
